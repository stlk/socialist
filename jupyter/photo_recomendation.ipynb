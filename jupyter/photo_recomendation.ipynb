{
 "cells": [
  {
   "cell_type": "code",
   "execution_count": 82,
   "metadata": {
    "collapsed": false
   },
   "outputs": [],
   "source": [
    "from instagram.client import InstagramAPI\n",
    "\n",
    "api = InstagramAPI(\n",
    "    access_token='TOKEN',\n",
    "    client_secret='SECRET')\n",
    "\n",
    "def get_liked_media():\n",
    "    media = []\n",
    "    liked_media, next_ = api.user_liked_media()\n",
    "    media.extend(liked_media)\n",
    "    while next_:\n",
    "        liked_media, next_ = api.user_liked_media(with_next_url=next_)\n",
    "        media.extend(liked_media)\n",
    "        print(\"Remaining API Calls: %s/%s\" % (api.x_ratelimit_remaining, api.x_ratelimit))\n",
    "    return media"
   ]
  },
  {
   "cell_type": "code",
   "execution_count": 83,
   "metadata": {
    "collapsed": false
   },
   "outputs": [
    {
     "name": "stdout",
     "output_type": "stream",
     "text": [
      "Remaining API Calls: 4998/5000\n",
      "Remaining API Calls: 4997/5000\n",
      "Remaining API Calls: 4996/5000\n",
      "Remaining API Calls: 4995/5000\n",
      "Remaining API Calls: 4994/5000\n",
      "Remaining API Calls: 4993/5000\n",
      "Remaining API Calls: 4992/5000\n",
      "Remaining API Calls: 4991/5000\n",
      "Remaining API Calls: 4990/5000\n",
      "Remaining API Calls: 4989/5000\n",
      "Remaining API Calls: 4988/5000\n"
     ]
    }
   ],
   "source": [
    "media = get_liked_media()"
   ]
  },
  {
   "cell_type": "markdown",
   "metadata": {},
   "source": [
    "## Display liked images"
   ]
  },
  {
   "cell_type": "code",
   "execution_count": null,
   "metadata": {
    "collapsed": true
   },
   "outputs": [],
   "source": [
    "from IPython.display import display, HTML\n",
    "\n",
    "for item in media:\n",
    "    display(HTML(('<img src=\"%s\"/>' % item.get_standard_resolution_url())))\n",
    "    \n",
    "    "
   ]
  },
  {
   "cell_type": "code",
   "execution_count": 84,
   "metadata": {
    "collapsed": false
   },
   "outputs": [
    {
     "data": {
      "text/plain": [
       "[('igerscz', 42),\n",
       " ('vscocam', 35),\n",
       " ('iglifecz', 35),\n",
       " ('vsco', 26),\n",
       " ('prague', 22),\n",
       " ('livefolk', 21),\n",
       " ('liveauthentic', 20),\n",
       " ('vscocze', 18),\n",
       " ('czech', 14),\n",
       " ('czech_vibes', 14)]"
      ]
     },
     "execution_count": 84,
     "metadata": {},
     "output_type": "execute_result"
    }
   ],
   "source": [
    "from functools import reduce\n",
    "from collections import Counter\n",
    "\n",
    "def retreive_tags(result, tags):\n",
    "    result += list(map(lambda tag: tag.name, tags))\n",
    "    return result\n",
    "\n",
    "tags_collections = (map(lambda photo: photo.tags, media))\n",
    "tags_collections = reduce(retreive_tags, tags_collections, [])\n",
    "\n",
    "top_10_tags_with_count = Counter(tags_collections).most_common(10)\n",
    "top_10_tags = list(map(lambda tag: tag[0], top_10_tags_with_count))\n",
    "top_10_tags_with_count"
   ]
  },
  {
   "cell_type": "code",
   "execution_count": 24,
   "metadata": {
    "collapsed": false
   },
   "outputs": [],
   "source": [
    "def get_media_for_tag(tag):\n",
    "    media = []\n",
    "    tag_recent_media, next_ = api.tag_recent_media(tag_name=tag)\n",
    "    media.extend(tag_recent_media)\n",
    "    while next_ and len(media) < 10:\n",
    "        tag_recent_media, next_ = api.tag_recent_media(tag_name=tag, with_next_url=next_)\n",
    "        media.extend(tag_recent_media)\n",
    "        print(\"Remaining API Calls: %s/%s\" % (api.x_ratelimit_remaining, api.x_ratelimit))\n",
    "    return media"
   ]
  },
  {
   "cell_type": "code",
   "execution_count": 85,
   "metadata": {
    "collapsed": false,
    "scrolled": true
   },
   "outputs": [
    {
     "name": "stdout",
     "output_type": "stream",
     "text": [
      "loading... igerscz\n",
      "loading... vscocam\n",
      "loading... iglifecz\n",
      "loading... vsco\n",
      "loading... prague\n",
      "loading... livefolk\n",
      "loading... liveauthentic\n",
      "loading... vscocze\n",
      "loading... czech\n",
      "loading... czech_vibes\n"
     ]
    }
   ],
   "source": [
    "from itertools import groupby\n",
    "\n",
    "media_for_user = []\n",
    "for tag in top_10_tags:\n",
    "    print(\"loading... {0}\".format(tag))\n",
    "    media_for_user.extend(get_media_for_tag(tag))\n",
    "    "
   ]
  },
  {
   "cell_type": "markdown",
   "metadata": {},
   "source": [
    "We've got all the photos. We just need to pick the most liked ones.\n",
    "\n",
    "Some weighting would be great. Number of occurences of top 10 tags related to number of likes should be enough."
   ]
  },
  {
   "cell_type": "code",
   "execution_count": 110,
   "metadata": {
    "collapsed": false,
    "scrolled": false
   },
   "outputs": [
    {
     "data": {
      "text/plain": [
       "[{'author': 'vojtafaltyn',\n",
       "  'caption': Comment: vojtafaltyn said \"🙌🏻 Mirror 🙌🏻 #vsconature #wonderful_places #lifeofadventure #streetdreamsmag #natureaddict #big_shotz #master_shots #instagoodmyphoto #visualsoflife #liveauthentic #livefolk #letsgosomewhere #instamagazine_ #igerscz #iglifecz #vscostyle #mobilemag #artofvisuals #vscocze #exks_nature #earthpix #topvsco #vscovibe #exploretocreate #czech #XIXtagram #folkgood #exklusive_shot #czech_vibes #jj_mextures\",\n",
       "  'id': '1108752537369395166_380118534',\n",
       "  'likes': 196,\n",
       "  'link': 'https://instagram.com/p/9jFI7ttz_e/',\n",
       "  'tags': <map at 0x10696e1d0>,\n",
       "  'url': 'https://scontent.cdninstagram.com/hphotos-xaf1/t51.2885-15/s640x640/sh0.08/e35/12142387_1520544921594002_2099671531_n.jpg'},\n",
       " {'author': 'marek.paci',\n",
       "  'caption': Comment: marek.paci said \"S u p e r b  A u t u m n a l  D a y //🌞🌲🍁\n",
       "  #autmn #autumnlover #sunsetXmary #necekamziju\n",
       "  Dnešní den byl  hodně vydařenej , jako i ten včerejší! 🔆 a tak si tohohle počasí je potřeba užít! 🍁\n",
       "  .\n",
       "  .\n",
       "  .\n",
       "  .\n",
       "  .\n",
       "  .\n",
       "  #folkmagazine #instagoodmyphoto #theCoolMagazine #tagforlikes #FolkGood #nikon1 #chasingfog #iglifecz #loveit #insta_svk #vscogood #czech #vscogoodshot #exklusive_shot #MobileMag #followme #igerscz #iglifecz #autumn #vscofolk #vscoczech#vscoslovakia #igerscz  #česko\",\n",
       "  'id': '1108801053006562023_1543850575',\n",
       "  'likes': 201,\n",
       "  'link': 'https://instagram.com/p/9jQK7bCQLn/',\n",
       "  'tags': <map at 0x106998978>,\n",
       "  'url': 'https://scontent.cdninstagram.com/hphotos-xaf1/t51.2885-15/s640x640/sh0.08/e35/11875295_1496522087308095_1204548385_n.jpg'},\n",
       " {'author': 'terezhlu',\n",
       "  'caption': Comment: terezhlu said \"#czech #czechgirl #cz #czech_insta #czech_vibes #vscocze #vscocam #vsco #vscobest #vscogrid #vscogram #vscolife #vscolifestyle #vscolove #vscophoto #vscogood #vscoaward #vsco_hub #vsco #vscogallery #vscodaily #vscovibe #vscoaddict #topvsco #bestofvsco #justgoshoot #ig_europe #igerscz #iglifecz #igmasters #mobilemag\",\n",
       "  'id': '1108766521880480230_305460513',\n",
       "  'likes': 122,\n",
       "  'link': 'https://instagram.com/p/9jIUbziAnm/',\n",
       "  'tags': <map at 0x10696eda0>,\n",
       "  'url': 'https://scontent.cdninstagram.com/hphotos-xfa1/t51.2885-15/s640x640/sh0.08/e35/12141957_915602961864099_1982284232_n.jpg'},\n",
       " {'author': 'ztracenavehvezdach',\n",
       "  'caption': Comment: ztracenavehvezdach said \"ještě jedna ze včerejších /zvláštních/ Pokojů ✨🌚 #vsco #vscocam #vscocze #pokoje #lights #depressing #exhibition #prage #praguestagram #cojetedaumeni #igerscz #czech_vibes\",\n",
       "  'id': '1108770157990208627_185310984',\n",
       "  'likes': 148,\n",
       "  'link': 'https://instagram.com/p/9jJJWMj2Rz/',\n",
       "  'tags': <map at 0x10696eeb8>,\n",
       "  'url': 'https://scontent.cdninstagram.com/hphotos-xaf1/t51.2885-15/s640x640/sh0.08/e35/12132745_653837334758375_168872715_n.jpg'},\n",
       " {'author': 'davidstejskal',\n",
       "  'caption': Comment: davidstejskal said \"🏞\",\n",
       "  'id': '1108754767330558277_273549239',\n",
       "  'likes': 79,\n",
       "  'link': 'https://instagram.com/p/9jFpYhwkFF/',\n",
       "  'tags': <map at 0x10696e908>,\n",
       "  'url': 'https://scontent.cdninstagram.com/hphotos-xaf1/t51.2885-15/s640x640/sh0.08/e35/12132954_650556721752563_632338718_n.jpg'}]"
      ]
     },
     "execution_count": 110,
     "metadata": {},
     "output_type": "execute_result"
    }
   ],
   "source": [
    "from itertools import islice\n",
    "\n",
    "def unique(seq, idfun=None):\n",
    "   if idfun is None:\n",
    "       def idfun(x): return x\n",
    "   seen = {}\n",
    "   result = []\n",
    "   for item in seq:\n",
    "       marker = idfun(item)\n",
    "       if marker in seen: continue\n",
    "       seen[marker] = 1\n",
    "       result.append(item)\n",
    "   return result\n",
    "\n",
    "\n",
    "media_for_user_processed = map(lambda m: {'id': m.id, 'author': m.user.username, 'caption': m.caption, 'likes': m.like_count, 'link': m.link, 'url': m.get_standard_resolution_url(), 'tags': map(lambda t: t.name, m.tags)}, media_for_user)\n",
    "media_for_user_processed = unique(media_for_user_processed, lambda m: m['id'])\n",
    "\n",
    "\n",
    "def weight_by_tags(tags):\n",
    "    weight = 1\n",
    "    for tag in tags:\n",
    "        tag_weight = [w[1] for w in top_10_tags_with_count if w[0] == tag]\n",
    "        weight += (1 if len(tag_weight) == 0 else tag_weight[0]) * 0.01\n",
    "    return weight\n",
    "\n",
    "media_for_user_processed = sorted(media_for_user_processed, key = lambda m: m['likes'] * weight_by_tags(m['tags']), reverse = True)\n",
    "media_for_user_processed = islice(media_for_user_processed, 5)\n",
    "list(media_for_user_processed)\n"
   ]
  }
 ],
 "metadata": {
  "kernelspec": {
   "display_name": "Python 3",
   "language": "python",
   "name": "python3"
  },
  "language_info": {
   "codemirror_mode": {
    "name": "ipython",
    "version": 3
   },
   "file_extension": ".py",
   "mimetype": "text/x-python",
   "name": "python",
   "nbconvert_exporter": "python",
   "pygments_lexer": "ipython3",
   "version": "3.5.0"
  }
 },
 "nbformat": 4,
 "nbformat_minor": 0
}
